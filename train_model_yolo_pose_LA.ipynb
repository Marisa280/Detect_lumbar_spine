{
  "nbformat": 4,
  "nbformat_minor": 0,
  "metadata": {
    "colab": {
      "provenance": [],
      "gpuType": "T4",
      "authorship_tag": "ABX9TyMInRPz/zCoSB1LSW5EA9s3",
      "include_colab_link": true
    },
    "kernelspec": {
      "name": "python3",
      "display_name": "Python 3"
    },
    "language_info": {
      "name": "python"
    },
    "accelerator": "GPU"
  },
  "cells": [
    {
      "cell_type": "markdown",
      "metadata": {
        "id": "view-in-github",
        "colab_type": "text"
      },
      "source": [
        "<a href=\"https://colab.research.google.com/github/Marisa280/Detect_lumbar_spine/blob/main/train_model_yolo_pose_LA.ipynb\" target=\"_parent\"><img src=\"https://colab.research.google.com/assets/colab-badge.svg\" alt=\"Open In Colab\"/></a>"
      ]
    },
    {
      "cell_type": "code",
      "execution_count": null,
      "metadata": {
        "colab": {
          "base_uri": "https://localhost:8080/"
        },
        "id": "LJ1InseTcqZd",
        "outputId": "ed882666-5487-4744-c371-152629448e6f"
      },
      "outputs": [
        {
          "output_type": "stream",
          "name": "stdout",
          "text": [
            "Mounted at /content/drive\n"
          ]
        }
      ],
      "source": [
        "from google.colab import drive\n",
        "drive.mount('/content/drive')"
      ]
    },
    {
      "cell_type": "code",
      "source": [
        "!pip install ultralytics"
      ],
      "metadata": {
        "colab": {
          "base_uri": "https://localhost:8080/"
        },
        "id": "7F1Y6Iy4gIXM",
        "outputId": "c6a6eb00-abc7-4395-8d76-e6964f5529a6"
      },
      "execution_count": null,
      "outputs": [
        {
          "output_type": "stream",
          "name": "stdout",
          "text": [
            "Collecting ultralytics\n",
            "  Downloading ultralytics-8.3.20-py3-none-any.whl.metadata (34 kB)\n",
            "Requirement already satisfied: numpy>=1.23.0 in /usr/local/lib/python3.10/dist-packages (from ultralytics) (1.26.4)\n",
            "Requirement already satisfied: matplotlib>=3.3.0 in /usr/local/lib/python3.10/dist-packages (from ultralytics) (3.7.1)\n",
            "Requirement already satisfied: opencv-python>=4.6.0 in /usr/local/lib/python3.10/dist-packages (from ultralytics) (4.10.0.84)\n",
            "Requirement already satisfied: pillow>=7.1.2 in /usr/local/lib/python3.10/dist-packages (from ultralytics) (10.4.0)\n",
            "Requirement already satisfied: pyyaml>=5.3.1 in /usr/local/lib/python3.10/dist-packages (from ultralytics) (6.0.2)\n",
            "Requirement already satisfied: requests>=2.23.0 in /usr/local/lib/python3.10/dist-packages (from ultralytics) (2.32.3)\n",
            "Requirement already satisfied: scipy>=1.4.1 in /usr/local/lib/python3.10/dist-packages (from ultralytics) (1.13.1)\n",
            "Requirement already satisfied: torch>=1.8.0 in /usr/local/lib/python3.10/dist-packages (from ultralytics) (2.4.1+cu121)\n",
            "Requirement already satisfied: torchvision>=0.9.0 in /usr/local/lib/python3.10/dist-packages (from ultralytics) (0.19.1+cu121)\n",
            "Requirement already satisfied: tqdm>=4.64.0 in /usr/local/lib/python3.10/dist-packages (from ultralytics) (4.66.5)\n",
            "Requirement already satisfied: psutil in /usr/local/lib/python3.10/dist-packages (from ultralytics) (5.9.5)\n",
            "Requirement already satisfied: py-cpuinfo in /usr/local/lib/python3.10/dist-packages (from ultralytics) (9.0.0)\n",
            "Requirement already satisfied: pandas>=1.1.4 in /usr/local/lib/python3.10/dist-packages (from ultralytics) (2.2.2)\n",
            "Requirement already satisfied: seaborn>=0.11.0 in /usr/local/lib/python3.10/dist-packages (from ultralytics) (0.13.2)\n",
            "Collecting ultralytics-thop>=2.0.0 (from ultralytics)\n",
            "  Downloading ultralytics_thop-2.0.9-py3-none-any.whl.metadata (9.3 kB)\n",
            "Requirement already satisfied: contourpy>=1.0.1 in /usr/local/lib/python3.10/dist-packages (from matplotlib>=3.3.0->ultralytics) (1.3.0)\n",
            "Requirement already satisfied: cycler>=0.10 in /usr/local/lib/python3.10/dist-packages (from matplotlib>=3.3.0->ultralytics) (0.12.1)\n",
            "Requirement already satisfied: fonttools>=4.22.0 in /usr/local/lib/python3.10/dist-packages (from matplotlib>=3.3.0->ultralytics) (4.54.1)\n",
            "Requirement already satisfied: kiwisolver>=1.0.1 in /usr/local/lib/python3.10/dist-packages (from matplotlib>=3.3.0->ultralytics) (1.4.7)\n",
            "Requirement already satisfied: packaging>=20.0 in /usr/local/lib/python3.10/dist-packages (from matplotlib>=3.3.0->ultralytics) (24.1)\n",
            "Requirement already satisfied: pyparsing>=2.3.1 in /usr/local/lib/python3.10/dist-packages (from matplotlib>=3.3.0->ultralytics) (3.2.0)\n",
            "Requirement already satisfied: python-dateutil>=2.7 in /usr/local/lib/python3.10/dist-packages (from matplotlib>=3.3.0->ultralytics) (2.8.2)\n",
            "Requirement already satisfied: pytz>=2020.1 in /usr/local/lib/python3.10/dist-packages (from pandas>=1.1.4->ultralytics) (2024.2)\n",
            "Requirement already satisfied: tzdata>=2022.7 in /usr/local/lib/python3.10/dist-packages (from pandas>=1.1.4->ultralytics) (2024.2)\n",
            "Requirement already satisfied: charset-normalizer<4,>=2 in /usr/local/lib/python3.10/dist-packages (from requests>=2.23.0->ultralytics) (3.4.0)\n",
            "Requirement already satisfied: idna<4,>=2.5 in /usr/local/lib/python3.10/dist-packages (from requests>=2.23.0->ultralytics) (3.10)\n",
            "Requirement already satisfied: urllib3<3,>=1.21.1 in /usr/local/lib/python3.10/dist-packages (from requests>=2.23.0->ultralytics) (2.2.3)\n",
            "Requirement already satisfied: certifi>=2017.4.17 in /usr/local/lib/python3.10/dist-packages (from requests>=2.23.0->ultralytics) (2024.8.30)\n",
            "Requirement already satisfied: filelock in /usr/local/lib/python3.10/dist-packages (from torch>=1.8.0->ultralytics) (3.16.1)\n",
            "Requirement already satisfied: typing-extensions>=4.8.0 in /usr/local/lib/python3.10/dist-packages (from torch>=1.8.0->ultralytics) (4.12.2)\n",
            "Requirement already satisfied: sympy in /usr/local/lib/python3.10/dist-packages (from torch>=1.8.0->ultralytics) (1.13.3)\n",
            "Requirement already satisfied: networkx in /usr/local/lib/python3.10/dist-packages (from torch>=1.8.0->ultralytics) (3.4.1)\n",
            "Requirement already satisfied: jinja2 in /usr/local/lib/python3.10/dist-packages (from torch>=1.8.0->ultralytics) (3.1.4)\n",
            "Requirement already satisfied: fsspec in /usr/local/lib/python3.10/dist-packages (from torch>=1.8.0->ultralytics) (2024.6.1)\n",
            "Requirement already satisfied: six>=1.5 in /usr/local/lib/python3.10/dist-packages (from python-dateutil>=2.7->matplotlib>=3.3.0->ultralytics) (1.16.0)\n",
            "Requirement already satisfied: MarkupSafe>=2.0 in /usr/local/lib/python3.10/dist-packages (from jinja2->torch>=1.8.0->ultralytics) (3.0.2)\n",
            "Requirement already satisfied: mpmath<1.4,>=1.1.0 in /usr/local/lib/python3.10/dist-packages (from sympy->torch>=1.8.0->ultralytics) (1.3.0)\n",
            "Downloading ultralytics-8.3.20-py3-none-any.whl (876 kB)\n",
            "\u001b[2K   \u001b[90m━━━━━━━━━━━━━━━━━━━━━━━━━━━━━━━━━━━━━━━━\u001b[0m \u001b[32m876.6/876.6 kB\u001b[0m \u001b[31m16.2 MB/s\u001b[0m eta \u001b[36m0:00:00\u001b[0m\n",
            "\u001b[?25hDownloading ultralytics_thop-2.0.9-py3-none-any.whl (26 kB)\n",
            "Installing collected packages: ultralytics-thop, ultralytics\n",
            "Successfully installed ultralytics-8.3.20 ultralytics-thop-2.0.9\n"
          ]
        }
      ]
    },
    {
      "cell_type": "code",
      "source": [
        "import os\n",
        "import shutil\n",
        "import random\n",
        "\n",
        "# เส้นทางไปยังโฟลเดอร์ labels ที่มีไฟล์ทั้งหมด\n",
        "label_dir = '/content/drive/MyDrive/Year3/comvi/project-lumbar-spine/LSPINE-3/LA'\n",
        "train_dir = '/content/drive/MyDrive/Year3/comvi/project-lumbar-spine/LSPINE-3/LA/train'\n",
        "val_dir = '/content/drive/MyDrive/Year3/comvi/project-lumbar-spine/LSPINE-3/LA/val'\n",
        "\n",
        "# สร้างโฟลเดอร์ train และ validation ถ้าไม่มี\n",
        "os.makedirs(train_dir, exist_ok=True)\n",
        "os.makedirs(val_dir, exist_ok=True)\n",
        "\n",
        "# สัดส่วนการแบ่งข้อมูล\n",
        "train_ratio = 0.8\n",
        "\n",
        "# รวบรวมไฟล์ทั้งหมดในโฟลเดอร์ labels\n",
        "all_files = [f for f in os.listdir(label_dir) if f.endswith('.txt') or f.endswith('.jpg') or f.endswith('.csv')]\n",
        "\n",
        "# สุ่มเรียงไฟล์ทั้งหมด\n",
        "random.shuffle(all_files)\n",
        "\n",
        "# แบ่งไฟล์เป็น train และ val ตามสัดส่วน\n",
        "train_size = int(len(all_files) * train_ratio)\n",
        "train_files = all_files[:train_size]\n",
        "val_files = all_files[train_size:]\n",
        "\n",
        "# ย้ายไฟล์ไปยังโฟลเดอร์ train และ val\n",
        "for f in train_files:\n",
        "    shutil.move(os.path.join(label_dir, f), os.path.join(train_dir, f))\n",
        "\n",
        "for f in val_files:\n",
        "    shutil.move(os.path.join(label_dir, f), os.path.join(val_dir, f))\n",
        "\n",
        "print(f\"Train files: {len(train_files)}\")\n",
        "print(f\"Validation files: {len(val_files)}\")\n"
      ],
      "metadata": {
        "colab": {
          "base_uri": "https://localhost:8080/"
        },
        "id": "Ili6rUOzgNNR",
        "outputId": "19402690-9b66-447f-8e31-85592e71c30b"
      },
      "execution_count": null,
      "outputs": [
        {
          "output_type": "stream",
          "name": "stdout",
          "text": [
            "Train files: 960\n",
            "Validation files: 240\n"
          ]
        }
      ]
    },
    {
      "cell_type": "code",
      "source": [
        "import yaml\n",
        "\n",
        "data = {\n",
        "    'train': '/content/drive/MyDrive/Year3/comvi/project-lumbar-spine/LSPINE-3/LA/train',\n",
        "    'val': '/content/drive/MyDrive/Year3/comvi/project-lumbar-spine/LSPINE-3/LA/val',\n",
        "    'nc': 1,  # จำนวนคลาสของวัตถุ\n",
        "    'names': ['spine'],\n",
        "    'nkpt': 20,  # จำนวน keypoints\n",
        "    'kpt_shape': [20, 2],  # รูปแบบ keypoint\n",
        "    'kpt_names': [\n",
        "        'L1a-left', 'L1a-right', 'L1b-left', 'L1b-right',\n",
        "        'L2a-left', 'L2a-right', 'L2b-left', 'L2b-right',\n",
        "        'L3a-left', 'L3a-right', 'L3b-left', 'L3b-right',\n",
        "        'L4a-left', 'L4a-right', 'L4b-left', 'L4b-right',\n",
        "        'L5a-left', 'L5a-right'\n",
        "    ]\n",
        "}\n",
        "\n",
        "# บันทึกไฟล์ data.yaml ใน Google Drive\n",
        "yaml_file_path = '/content/drive/MyDrive/Year3/comvi/project-lumbar-spine/LSPINE-3/LA/data.yaml'\n",
        "with open(yaml_file_path, 'w') as file:\n",
        "    yaml.dump(data, file, default_flow_style=False)\n",
        "\n",
        "print(f\"data.yaml created successfully at {yaml_file_path}\")\n"
      ],
      "metadata": {
        "colab": {
          "base_uri": "https://localhost:8080/"
        },
        "id": "Lz-qX5mPgc65",
        "outputId": "150d6759-bacb-4a6f-854b-6e47d5883ee6"
      },
      "execution_count": null,
      "outputs": [
        {
          "output_type": "stream",
          "name": "stdout",
          "text": [
            "data.yaml created successfully at /content/drive/MyDrive/Year3/comvi/project-lumbar-spine/LSPINE-3/LA/data.yaml\n"
          ]
        }
      ]
    },
    {
      "cell_type": "code",
      "source": [
        "from ultralytics import YOLO\n",
        "\n",
        "model = YOLO('yolov8n-pose.pt')"
      ],
      "metadata": {
        "colab": {
          "base_uri": "https://localhost:8080/"
        },
        "id": "M9xoavSagpZZ",
        "outputId": "77e8bed6-e27b-4d6e-a3db-e0fe163920ad"
      },
      "execution_count": null,
      "outputs": [
        {
          "output_type": "stream",
          "name": "stdout",
          "text": [
            "Creating new Ultralytics Settings v0.0.6 file ✅ \n",
            "View Ultralytics Settings with 'yolo settings' or at '/root/.config/Ultralytics/settings.json'\n",
            "Update Settings with 'yolo settings key=value', i.e. 'yolo settings runs_dir=path/to/dir'. For help see https://docs.ultralytics.com/quickstart/#ultralytics-settings.\n",
            "Downloading https://github.com/ultralytics/assets/releases/download/v8.3.0/yolov8n-pose.pt to 'yolov8n-pose.pt'...\n"
          ]
        },
        {
          "output_type": "stream",
          "name": "stderr",
          "text": [
            "100%|██████████| 6.52M/6.52M [00:00<00:00, 22.4MB/s]\n"
          ]
        }
      ]
    },
    {
      "cell_type": "code",
      "source": [
        "import os\n",
        "\n",
        "# จำนวน yolo require\n",
        "expected_columns = 49\n",
        "\n",
        "# เส้นทางไปยังโฟลเดอร์ labels\n",
        "label_dir = '/content/drive/MyDrive/Year3/comvi/project-lumbar-spine/LSPINE-3/LA/train'\n",
        "\n",
        "for filename in os.listdir(label_dir):\n",
        "    if filename.endswith('.txt'):\n",
        "        label_file = os.path.join(label_dir, filename)\n",
        "        with open(label_file, 'r') as file:\n",
        "            lines = file.readlines()\n",
        "            for line_num, line in enumerate(lines):\n",
        "                columns = line.strip().split()\n",
        "                if len(columns) != expected_columns:\n",
        "                    print(f\"Warning: File {filename}, line {line_num + 1} has {len(columns)} columns (expected {expected_columns})\")\n",
        "                else:\n",
        "                    print(f\"File {filename}, line {line_num + 1} is OK\")"
      ],
      "metadata": {
        "colab": {
          "base_uri": "https://localhost:8080/"
        },
        "id": "6b7yfIDcgsyt",
        "outputId": "2c511053-fbf8-44fb-80c3-70da70c9aa30"
      },
      "execution_count": null,
      "outputs": [
        {
          "output_type": "stream",
          "name": "stdout",
          "text": [
            "File 0012-F-013Y1.txt, line 1 is OK\n",
            "File 0003-F-013Y1.txt, line 1 is OK\n",
            "File 0011-F-063Y1.txt, line 1 is OK\n",
            "File 0005-F-025Y1.txt, line 1 is OK\n",
            "File 0010-F-037Y1.txt, line 1 is OK\n",
            "File 0008-M-022Y1.txt, line 1 is OK\n",
            "File 0001-F-037Y1.txt, line 1 is OK\n",
            "File 0014-F-062Y1.txt, line 1 is OK\n",
            "File 0018-F-020Y1.txt, line 1 is OK\n",
            "File 0016-F-023Y1.txt, line 1 is OK\n",
            "File 0015-M-020Y1.txt, line 1 is OK\n",
            "File 0007-F-006Y1.txt, line 1 is OK\n",
            "File 0019-F-015Y1.txt, line 1 is OK\n",
            "File 0006-F-031Y1.txt, line 1 is OK\n",
            "File 0013-M-022Y1.txt, line 1 is OK\n",
            "File 0024-F-014Y1.txt, line 1 is OK\n",
            "File 0056-F-069Y1.txt, line 1 is OK\n",
            "File 0034-F-067Y1.txt, line 1 is OK\n",
            "File 0033-F-023Y1.txt, line 1 is OK\n",
            "File 0046-F-021Y1.txt, line 1 is OK\n",
            "File 0022-M-006Y1.txt, line 1 is OK\n",
            "File 0037-F-019Y1.txt, line 1 is OK\n",
            "File 0050-F-015Y1.txt, line 1 is OK\n",
            "File 0040-M-023Y1.txt, line 1 is OK\n",
            "File 0020-M-030Y1.txt, line 1 is OK\n",
            "File 0035-M-026Y1.txt, line 1 is OK\n",
            "File 0023-F-014Y1.txt, line 1 is OK\n",
            "File 0025-F-015Y1.txt, line 1 is OK\n",
            "File 0051-F-066Y1.txt, line 1 is OK\n",
            "File 0047-F-023Y1.txt, line 1 is OK\n",
            "File 0038-F-020Y1.txt, line 1 is OK\n",
            "File 0031-F-014Y1.txt, line 1 is OK\n",
            "File 0057-F-030Y1.txt, line 1 is OK\n",
            "File 0060-F-013Y1.txt, line 1 is OK\n",
            "File 0032-F-007Y1.txt, line 1 is OK\n",
            "File 0044-F-022Y1.txt, line 1 is OK\n",
            "File 0053-F-040Y1.txt, line 1 is OK\n",
            "File 0058-F-008Y1.txt, line 1 is OK\n",
            "File 0029-M-019Y1.txt, line 1 is OK\n",
            "File 0062-F-041Y1.txt, line 1 is OK\n",
            "File 0055-F-032Y1.txt, line 1 is OK\n",
            "File 0041-F-019Y1.txt, line 1 is OK\n",
            "File 0061-F-021Y1.txt, line 1 is OK\n",
            "File 0021-F-079Y1.txt, line 1 is OK\n",
            "File 0043-F-039Y1.txt, line 1 is OK\n",
            "File 0026-F-029Y1.txt, line 1 is OK\n",
            "File 0028-F-041Y1.txt, line 1 is OK\n",
            "File 0079-F-012Y1.txt, line 1 is OK\n",
            "File 0081-M-022Y1.txt, line 1 is OK\n",
            "File 0066-F-019Y1.txt, line 1 is OK\n",
            "File 0078-F-016Y1.txt, line 1 is OK\n",
            "File 0104-F-013Y1.txt, line 1 is OK\n",
            "File 0101-F-022Y1.txt, line 1 is OK\n",
            "File 0064-F-017Y1.txt, line 1 is OK\n",
            "File 0109-F-042Y1.txt, line 1 is OK\n",
            "File 0107-F-033Y1.txt, line 1 is OK\n",
            "File 0095-F-020Y1.txt, line 1 is OK\n",
            "File 0097-F-040Y1.txt, line 1 is OK\n",
            "File 0108-F-036Y1.txt, line 1 is OK\n",
            "File 0100-M-051Y1.txt, line 1 is OK\n",
            "File 0090-F-016Y1.txt, line 1 is OK\n",
            "File 0106-F-016Y1.txt, line 1 is OK\n",
            "File 0071-F-016Y1.txt, line 1 is OK\n",
            "File 0089-F-012Y1.txt, line 1 is OK\n",
            "File 0067-F-028Y1.txt, line 1 is OK\n",
            "File 0098-F-065Y1.txt, line 1 is OK\n",
            "File 0068-F-017Y1.txt, line 1 is OK\n",
            "File 0073-F-036Y1.txt, line 1 is OK\n",
            "File 0070-F-027Y1.txt, line 1 is OK\n",
            "File 0069-M-039Y1.txt, line 1 is OK\n",
            "File 0147-F-086Y1.txt, line 1 is OK\n",
            "File 0153-M-021Y1.txt, line 1 is OK\n",
            "File 0112-F-064Y1.txt, line 1 is OK\n",
            "File 0142-F-051Y1.txt, line 1 is OK\n",
            "File 0150-F-081Y1.txt, line 1 is OK\n",
            "File 0151-M-079Y1.txt, line 1 is OK\n",
            "File 0155-F-067Y1.txt, line 1 is OK\n",
            "File 0145-F-047Y1.txt, line 1 is OK\n",
            "File 0111-F-033Y1.txt, line 1 is OK\n",
            "File 0135-F-024Y1.txt, line 1 is OK\n",
            "File 0126-F-026Y1.txt, line 1 is OK\n",
            "File 0139-F-077Y1.txt, line 1 is OK\n",
            "File 0140-M-024Y1.txt, line 1 is OK\n",
            "File 0148-M-058Y1.txt, line 1 is OK\n",
            "File 0136-F-027Y1.txt, line 1 is OK\n",
            "File 0114-F-038Y1.txt, line 1 is OK\n",
            "File 0157-M-060Y1.txt, line 1 is OK\n",
            "File 0113-F-082Y1.txt, line 1 is OK\n",
            "File 0134-M-038Y1.txt, line 1 is OK\n",
            "File 0138-M-064Y1.txt, line 1 is OK\n",
            "File 0143-F-089Y1.txt, line 1 is OK\n",
            "File 0154-M-078Y1.txt, line 1 is OK\n",
            "File 0118-F-015Y1.txt, line 1 is OK\n",
            "File 0144-F-038Y1.txt, line 1 is OK\n",
            "File 0141-M-055Y1.txt, line 1 is OK\n",
            "File 0183-F-080Y1.txt, line 1 is OK\n",
            "File 0163-F-053Y1.txt, line 1 is OK\n",
            "File 0161-F-054Y1.txt, line 1 is OK\n",
            "File 0180-M-082Y1.txt, line 1 is OK\n",
            "File 0174-M-063Y1.txt, line 1 is OK\n",
            "File 0164-F-064Y1.txt, line 1 is OK\n",
            "File 0191-F-066Y1.txt, line 1 is OK\n",
            "File 0185-F-073Y1.txt, line 1 is OK\n",
            "File 0159-M-062Y1.txt, line 1 is OK\n",
            "File 0175-M-053Y1.txt, line 1 is OK\n",
            "File 0162-M-084Y1.txt, line 1 is OK\n",
            "File 0184-M-034Y1.txt, line 1 is OK\n",
            "File 0179-F-072Y1.txt, line 1 is OK\n",
            "File 0189-M-068Y1.txt, line 1 is OK\n",
            "File 0187-F-067Y1.txt, line 1 is OK\n",
            "File 0170-M-074Y1.txt, line 1 is OK\n",
            "File 0167-F-049Y1.txt, line 1 is OK\n",
            "File 0169-F-044Y1.txt, line 1 is OK\n",
            "File 0173-F-079Y1.txt, line 1 is OK\n",
            "File 0177-F-037Y1.txt, line 1 is OK\n",
            "File 0171-M-058Y1.txt, line 1 is OK\n",
            "File 0165-M-078Y1.txt, line 1 is OK\n",
            "File 0181-M-069Y1.txt, line 1 is OK\n",
            "File 0166-F-071Y1.txt, line 1 is OK\n",
            "File 0182-F-059Y1.txt, line 1 is OK\n",
            "File 0207-F-061Y1.txt, line 1 is OK\n",
            "File 0221-F-066Y1.txt, line 1 is OK\n",
            "File 0206-F-070Y1.txt, line 1 is OK\n",
            "File 0220-F-069Y1.txt, line 1 is OK\n",
            "File 0225-M-086Y1.txt, line 1 is OK\n",
            "File 0223-F-063Y1.txt, line 1 is OK\n",
            "File 0203-M-081Y1.txt, line 1 is OK\n",
            "File 0236-M-065Y1.txt, line 1 is OK\n",
            "File 0230-F-078Y1.txt, line 1 is OK\n",
            "File 0197-F-077Y1.txt, line 1 is OK\n",
            "File 0204-F-084Y1.txt, line 1 is OK\n",
            "File 0210-F-079Y1.txt, line 1 is OK\n",
            "File 0219-F-077Y1.txt, line 1 is OK\n",
            "File 0222-F-051Y1.txt, line 1 is OK\n",
            "File 0209-M-072Y1.txt, line 1 is OK\n",
            "File 0196-F-051Y1.txt, line 1 is OK\n",
            "File 0214-F-072Y1.txt, line 1 is OK\n",
            "File 0195-F-064Y1.txt, line 1 is OK\n",
            "File 0227-M-055Y1.txt, line 1 is OK\n",
            "File 0198-F-063Y1.txt, line 1 is OK\n",
            "File 0234-F-073Y1.txt, line 1 is OK\n",
            "File 0200-M-065Y1.txt, line 1 is OK\n",
            "File 0235-F-073Y1.txt, line 1 is OK\n",
            "File 0202-F-068Y1.txt, line 1 is OK\n",
            "File 0211-F-055Y1.txt, line 1 is OK\n",
            "File 0201-F-077Y1.txt, line 1 is OK\n",
            "File 0226-M-060Y1.txt, line 1 is OK\n",
            "File 0229-F-078Y1.txt, line 1 is OK\n",
            "File 0261-F-056Y1.txt, line 1 is OK\n",
            "File 0265-F-081Y1.txt, line 1 is OK\n",
            "File 0260-F-084Y1.txt, line 1 is OK\n",
            "File 0252-M-056Y1.txt, line 1 is OK\n",
            "File 0254-F-064Y1.txt, line 1 is OK\n",
            "File 0263-F-049Y1.txt, line 1 is OK\n",
            "File 0238-F-067Y1.txt, line 1 is OK\n",
            "File 0264-F-044Y1.txt, line 1 is OK\n",
            "File 0240-F-061Y1.txt, line 1 is OK\n",
            "File 0256-M-056Y1.txt, line 1 is OK\n",
            "File 0267-F-065Y1.txt, line 1 is OK\n",
            "File 0244-M-025Y1.txt, line 1 is OK\n",
            "File 0245-F-086Y1.txt, line 1 is OK\n",
            "File 0243-M-068Y1.txt, line 1 is OK\n",
            "File 0262-F-084Y1.txt, line 1 is OK\n",
            "File 0241-F-078Y1.txt, line 1 is OK\n",
            "File 0247-F-063Y1.txt, line 1 is OK\n",
            "File 0249-F-074Y1.txt, line 1 is OK\n",
            "File 0251-M-055Y1.txt, line 1 is OK\n",
            "File 0268-M-052Y1.txt, line 1 is OK\n",
            "File 0248-F-058Y1.txt, line 1 is OK\n",
            "File 0239-F-073Y1.txt, line 1 is OK\n",
            "File 0259-F-073Y1.txt, line 1 is OK\n",
            "File 0246-M-027Y1.txt, line 1 is OK\n",
            "File 0242-M-066Y1.txt, line 1 is OK\n",
            "File 0300-M-083Y1.txt, line 1 is OK\n",
            "File 0293-M-068Y1.txt, line 1 is OK\n",
            "File 0272-M-035Y1.txt, line 1 is OK\n",
            "File 0273-M-056Y1.txt, line 1 is OK\n",
            "File 0294-F-068Y1.txt, line 1 is OK\n",
            "File 0282-F-034Y1.txt, line 1 is OK\n",
            "File 0298-M-011Y1.txt, line 1 is OK\n",
            "File 0297-F-031Y1.txt, line 1 is OK\n",
            "File 0283-M-030Y1.txt, line 1 is OK\n",
            "File 0296-F-039Y1.txt, line 1 is OK\n",
            "File 0274-M-064Y1.txt, line 1 is OK\n",
            "File 0276-F-076Y1.txt, line 1 is OK\n",
            "File 0291-M-073Y1.txt, line 1 is OK\n",
            "File 0287-M-078Y1.txt, line 1 is OK\n",
            "File 0284-F-061Y1.txt, line 1 is OK\n",
            "File 0285-F-061Y1.txt, line 1 is OK\n",
            "File 0280-F-051Y1.txt, line 1 is OK\n",
            "File 0278-F-055Y1.txt, line 1 is OK\n",
            "File 0295-F-074Y1.txt, line 1 is OK\n",
            "File 0301-F-036Y1.txt, line 1 is OK\n",
            "File 0271-F-062Y1.txt, line 1 is OK\n",
            "File 0288-M-077Y1.txt, line 1 is OK\n",
            "File 0290-F-030Y1.txt, line 1 is OK\n",
            "File 0292-F-058Y1.txt, line 1 is OK\n",
            "File 0279-M-043Y1.txt, line 1 is OK\n",
            "File 0299-F-060Y1.txt, line 1 is OK\n",
            "File 0277-F-050Y1.txt, line 1 is OK\n",
            "File 0269-M-062Y1.txt, line 1 is OK\n",
            "File 0344-F-058Y1.txt, line 1 is OK\n",
            "File 0302-F-068Y1.txt, line 1 is OK\n",
            "File 0313-M-036Y1.txt, line 1 is OK\n",
            "File 0336-M-050Y1.txt, line 1 is OK\n",
            "File 0324-F-061Y1.txt, line 1 is OK\n",
            "File 0316-F-074Y1.txt, line 1 is OK\n",
            "File 0320-M-069Y1.txt, line 1 is OK\n",
            "File 0330-M-049Y1.txt, line 1 is OK\n",
            "File 0333-F-070Y1.txt, line 1 is OK\n",
            "File 0321-F-069Y1.txt, line 1 is OK\n",
            "File 0319-F-040Y1.txt, line 1 is OK\n",
            "File 0308-M-067Y1.txt, line 1 is OK\n",
            "File 0332-M-084Y1.txt, line 1 is OK\n",
            "File 0329-M-051Y1.txt, line 1 is OK\n",
            "File 0323-M-054Y1.txt, line 1 is OK\n",
            "File 0312-M-036Y1.txt, line 1 is OK\n",
            "File 0306-M-072Y1.txt, line 1 is OK\n",
            "File 0327-F-079Y1.txt, line 1 is OK\n",
            "File 0318-F-053Y1.txt, line 1 is OK\n",
            "File 0341-F-038Y1.txt, line 1 is OK\n",
            "File 0311-F-074Y1.txt, line 1 is OK\n",
            "File 0305-F-025Y1.txt, line 1 is OK\n",
            "File 0325-M-039Y1.txt, line 1 is OK\n",
            "File 0307-F-072Y1.txt, line 1 is OK\n",
            "File 0342-F-060Y1.txt, line 1 is OK\n",
            "File 0315-F-067Y1.txt, line 1 is OK\n",
            "File 0338-F-027Y1.txt, line 1 is OK\n",
            "File 0314-M-015Y1.txt, line 1 is OK\n",
            "File 0340-M-056Y1.txt, line 1 is OK\n",
            "File 0394-F-062Y1.txt, line 1 is OK\n",
            "File 0345-M-064Y1.txt, line 1 is OK\n",
            "File 0412-F-023Y1.txt, line 1 is OK\n",
            "File 0398-F-070Y1.txt, line 1 is OK\n",
            "File 0387-M-046Y1.txt, line 1 is OK\n",
            "File 0391-M-046Y1.txt, line 1 is OK\n",
            "File 0411-F-066Y1.txt, line 1 is OK\n",
            "File 0409-F-043Y1.txt, line 1 is OK\n",
            "File 0406-F-067Y1.txt, line 1 is OK\n",
            "File 0381-F-062Y1.txt, line 1 is OK\n",
            "File 0385-F-071Y1.txt, line 1 is OK\n",
            "File 0379-M-040Y1.txt, line 1 is OK\n",
            "File 0388-M-073Y1.txt, line 1 is OK\n",
            "File 0393-M-064Y1.txt, line 1 is OK\n",
            "File 0396-F-053Y1.txt, line 1 is OK\n",
            "File 0389-F-063Y1.txt, line 1 is OK\n",
            "File 0377-F-045Y1.txt, line 1 is OK\n",
            "File 0399-M-023Y1.txt, line 1 is OK\n",
            "File 0401-M-049Y1.txt, line 1 is OK\n",
            "File 0400-F-024Y1.txt, line 1 is OK\n",
            "File 0395-M-080Y1.txt, line 1 is OK\n",
            "File 0382-M-028Y1.txt, line 1 is OK\n",
            "File 0380-M-060Y1.txt, line 1 is OK\n",
            "File 0403-M-039Y1.txt, line 1 is OK\n",
            "File 0402-F-042Y1.txt, line 1 is OK\n",
            "File 0384-F-078Y1.txt, line 1 is OK\n",
            "File 0390-M-080Y1.txt, line 1 is OK\n",
            "File 0437-F-065Y1.txt, line 1 is OK\n",
            "File 0436-F-054Y1.txt, line 1 is OK\n",
            "File 0430-M-060Y1.txt, line 1 is OK\n",
            "File 0425-M-062Y1.txt, line 1 is OK\n",
            "File 0426-F-063Y1.txt, line 1 is OK\n",
            "File 0442-F-021Y1.txt, line 1 is OK\n",
            "File 0416-F-022Y1.txt, line 1 is OK\n",
            "File 0424-M-074Y1.txt, line 1 is OK\n",
            "File 0429-M-083Y1.txt, line 1 is OK\n",
            "File 0438-F-062Y1.txt, line 1 is OK\n",
            "File 0433-F-021Y1.txt, line 1 is OK\n",
            "File 0435-M-045Y1.txt, line 1 is OK\n",
            "File 0432-F-054Y1.txt, line 1 is OK\n",
            "File 0417-F-069Y1.txt, line 1 is OK\n",
            "File 0443-M-020Y1.txt, line 1 is OK\n",
            "File 0415-F-061Y1.txt, line 1 is OK\n",
            "File 0420-F-079Y1.txt, line 1 is OK\n",
            "File 0431-F-066Y1.txt, line 1 is OK\n",
            "File 0421-F-083Y1.txt, line 1 is OK\n",
            "File 0422-F-088Y1.txt, line 1 is OK\n",
            "File 0471-M-081Y1.txt, line 1 is OK\n",
            "File 0469-F-068Y1.txt, line 1 is OK\n",
            "File 0451-F-066Y1.txt, line 1 is OK\n",
            "File 0463-F-020Y1.txt, line 1 is OK\n",
            "File 0447-M-067Y1.txt, line 1 is OK\n",
            "File 0449-F-059Y1.txt, line 1 is OK\n",
            "File 0452-M-042Y1.txt, line 1 is OK\n",
            "File 0464-F-074Y1.txt, line 1 is OK\n",
            "File 0462-M-041Y1.txt, line 1 is OK\n",
            "File 0446-M-060Y1.txt, line 1 is OK\n",
            "File 0455-F-078Y1.txt, line 1 is OK\n",
            "File 0460-F-019Y1.txt, line 1 is OK\n",
            "File 0461-F-019Y1.txt, line 1 is OK\n",
            "File 0465-F-040Y1.txt, line 1 is OK\n",
            "File 0450-F-072Y1.txt, line 1 is OK\n",
            "File 0458-M-020Y1.txt, line 1 is OK\n",
            "File 0470-F-065Y1.txt, line 1 is OK\n",
            "File 0454-F-040Y1.txt, line 1 is OK\n",
            "File 0472-F-070Y1.txt, line 1 is OK\n",
            "File 0477-F-075Y1.txt, line 1 is OK\n",
            "File 0475-M-053Y1.txt, line 1 is OK\n",
            "File 0444-F-020Y1.txt, line 1 is OK\n",
            "File 0445-F-021Y1.txt, line 1 is OK\n",
            "File 0453-F-064Y1.txt, line 1 is OK\n",
            "File 0466-F-046Y1.txt, line 1 is OK\n",
            "File 0474-M-027Y1.txt, line 1 is OK\n",
            "File 0489-F-052Y1.txt, line 1 is OK\n",
            "File 0494-F-066Y1.txt, line 1 is OK\n",
            "File 0480-M-052Y1.txt, line 1 is OK\n",
            "File 0499-F-065Y1.txt, line 1 is OK\n",
            "File 0487-F-047Y1.txt, line 1 is OK\n",
            "File 0493-F-029Y1.txt, line 1 is OK\n",
            "File 0488-F-050Y1.txt, line 1 is OK\n",
            "File 0495-M-048Y1.txt, line 1 is OK\n",
            "File 0485-M-062Y1.txt, line 1 is OK\n",
            "File 0482-F-065Y1.txt, line 1 is OK\n",
            "File 0478-F-034Y1.txt, line 1 is OK\n",
            "File 0501-M-080Y1.txt, line 1 is OK\n",
            "File 0481-F-051Y1.txt, line 1 is OK\n",
            "File 0496-F-055Y1.txt, line 1 is OK\n",
            "File 0492-F-051Y1.txt, line 1 is OK\n",
            "File 0497-M-027Y1.txt, line 1 is OK\n",
            "File 0479-F-033Y1.txt, line 1 is OK\n",
            "File 0491-F-018Y1.txt, line 1 is OK\n"
          ]
        }
      ]
    },
    {
      "cell_type": "code",
      "source": [
        "import wandb\n",
        "\n",
        "wandb.init()\n",
        "# define our custom x axis metric\n",
        "wandb.define_metric(\"train/step\")\n",
        "# set all other train/ metrics to use this step\n",
        "wandb.define_metric(\"train/*\", step_metric=\"train/step\")\n",
        "\n",
        "for i in range(10):\n",
        "    log_dict = {\n",
        "        \"train/step\": 2**i,  # exponential growth w/ internal W&B step\n",
        "        \"train/loss\": 1 / (i + 1),  # x-axis is train/step\n",
        "        \"train/accuracy\": 1 - (1 / (1 + i)),  # x-axis is train/step\n",
        "        \"val/loss\": 1 / (1 + i),  # x-axis is internal wandb step\n",
        "    }\n",
        "    wandb.log(log_dict)"
      ],
      "metadata": {
        "colab": {
          "base_uri": "https://localhost:8080/",
          "height": 228
        },
        "id": "2vgaJ_uUoMfy",
        "outputId": "d598a24f-1a23-4945-9cea-b3c6d72e3123"
      },
      "execution_count": null,
      "outputs": [
        {
          "output_type": "stream",
          "name": "stderr",
          "text": [
            "\u001b[34m\u001b[1mwandb\u001b[0m: Using wandb-core as the SDK backend. Please refer to https://wandb.me/wandb-core for more information.\n"
          ]
        },
        {
          "output_type": "display_data",
          "data": {
            "text/plain": [
              "<IPython.core.display.Javascript object>"
            ],
            "application/javascript": [
              "\n",
              "        window._wandbApiKey = new Promise((resolve, reject) => {\n",
              "            function loadScript(url) {\n",
              "            return new Promise(function(resolve, reject) {\n",
              "                let newScript = document.createElement(\"script\");\n",
              "                newScript.onerror = reject;\n",
              "                newScript.onload = resolve;\n",
              "                document.body.appendChild(newScript);\n",
              "                newScript.src = url;\n",
              "            });\n",
              "            }\n",
              "            loadScript(\"https://cdn.jsdelivr.net/npm/postmate/build/postmate.min.js\").then(() => {\n",
              "            const iframe = document.createElement('iframe')\n",
              "            iframe.style.cssText = \"width:0;height:0;border:none\"\n",
              "            document.body.appendChild(iframe)\n",
              "            const handshake = new Postmate({\n",
              "                container: iframe,\n",
              "                url: 'https://wandb.ai/authorize'\n",
              "            });\n",
              "            const timeout = setTimeout(() => reject(\"Couldn't auto authenticate\"), 5000)\n",
              "            handshake.then(function(child) {\n",
              "                child.on('authorize', data => {\n",
              "                    clearTimeout(timeout)\n",
              "                    resolve(data)\n",
              "                });\n",
              "            });\n",
              "            })\n",
              "        });\n",
              "    "
            ]
          },
          "metadata": {}
        },
        {
          "output_type": "stream",
          "name": "stderr",
          "text": [
            "\u001b[34m\u001b[1mwandb\u001b[0m: Logging into wandb.ai. (Learn how to deploy a W&B server locally: https://wandb.me/wandb-server)\n",
            "\u001b[34m\u001b[1mwandb\u001b[0m: You can find your API key in your browser here: https://wandb.ai/authorize\n",
            "wandb: Paste an API key from your profile and hit enter, or press ctrl+c to quit:"
          ]
        },
        {
          "name": "stdout",
          "output_type": "stream",
          "text": [
            " ··········\n"
          ]
        },
        {
          "output_type": "stream",
          "name": "stderr",
          "text": [
            "\u001b[34m\u001b[1mwandb\u001b[0m: Appending key for api.wandb.ai to your netrc file: /root/.netrc\n"
          ]
        },
        {
          "output_type": "display_data",
          "data": {
            "text/plain": [
              "<IPython.core.display.HTML object>"
            ],
            "text/html": [
              "Tracking run with wandb version 0.18.5"
            ]
          },
          "metadata": {}
        },
        {
          "output_type": "display_data",
          "data": {
            "text/plain": [
              "<IPython.core.display.HTML object>"
            ],
            "text/html": [
              "Run data is saved locally in <code>/content/wandb/run-20241023_062250-mhg8e4ih</code>"
            ]
          },
          "metadata": {}
        },
        {
          "output_type": "display_data",
          "data": {
            "text/plain": [
              "<IPython.core.display.HTML object>"
            ],
            "text/html": [
              "Syncing run <strong><a href='https://wandb.ai/65160280-burapha-university/uncategorized/runs/mhg8e4ih' target=\"_blank\">fragrant-water-3</a></strong> to <a href='https://wandb.ai/65160280-burapha-university/uncategorized' target=\"_blank\">Weights & Biases</a> (<a href='https://wandb.me/run' target=\"_blank\">docs</a>)<br/>"
            ]
          },
          "metadata": {}
        },
        {
          "output_type": "display_data",
          "data": {
            "text/plain": [
              "<IPython.core.display.HTML object>"
            ],
            "text/html": [
              " View project at <a href='https://wandb.ai/65160280-burapha-university/uncategorized' target=\"_blank\">https://wandb.ai/65160280-burapha-university/uncategorized</a>"
            ]
          },
          "metadata": {}
        },
        {
          "output_type": "display_data",
          "data": {
            "text/plain": [
              "<IPython.core.display.HTML object>"
            ],
            "text/html": [
              " View run at <a href='https://wandb.ai/65160280-burapha-university/uncategorized/runs/mhg8e4ih' target=\"_blank\">https://wandb.ai/65160280-burapha-university/uncategorized/runs/mhg8e4ih</a>"
            ]
          },
          "metadata": {}
        }
      ]
    },
    {
      "cell_type": "code",
      "source": [
        "# Train the model\n",
        "results = model.train(data=\"/content/drive/MyDrive/Year3/comvi/project-lumbar-spine/LSPINE-3/LA/data.yaml\", epochs=100, imgsz=640)"
      ],
      "metadata": {
        "colab": {
          "base_uri": "https://localhost:8080/",
          "height": 1000
        },
        "id": "WddkGM_Gg9lB",
        "outputId": "8f45b6ef-745d-43d4-e9a3-75fa9e57aedf"
      },
      "execution_count": null,
      "outputs": [
        {
          "output_type": "stream",
          "name": "stdout",
          "text": [
            "Ultralytics 8.3.20 🚀 Python-3.10.12 torch-2.4.1+cu121 CPU (Intel Xeon 2.20GHz)\n",
            "\u001b[34m\u001b[1mengine/trainer: \u001b[0mtask=pose, mode=train, model=yolov8n-pose.pt, data=/content/drive/MyDrive/Year3/comvi/project-lumbar-spine/LSPINE-3/LA/data.yaml, epochs=100, time=None, patience=100, batch=16, imgsz=640, save=True, save_period=-1, cache=False, device=None, workers=8, project=None, name=train, exist_ok=False, pretrained=True, optimizer=auto, verbose=True, seed=0, deterministic=True, single_cls=False, rect=False, cos_lr=False, close_mosaic=10, resume=False, amp=True, fraction=1.0, profile=False, freeze=None, multi_scale=False, overlap_mask=True, mask_ratio=4, dropout=0.0, val=True, split=val, save_json=False, save_hybrid=False, conf=None, iou=0.7, max_det=300, half=False, dnn=False, plots=True, source=None, vid_stride=1, stream_buffer=False, visualize=False, augment=False, agnostic_nms=False, classes=None, retina_masks=False, embed=None, show=False, save_frames=False, save_txt=False, save_conf=False, save_crop=False, show_labels=True, show_conf=True, show_boxes=True, line_width=None, format=torchscript, keras=False, optimize=False, int8=False, dynamic=False, simplify=True, opset=None, workspace=4, nms=False, lr0=0.01, lrf=0.01, momentum=0.937, weight_decay=0.0005, warmup_epochs=3.0, warmup_momentum=0.8, warmup_bias_lr=0.1, box=7.5, cls=0.5, dfl=1.5, pose=12.0, kobj=1.0, label_smoothing=0.0, nbs=64, hsv_h=0.015, hsv_s=0.7, hsv_v=0.4, degrees=0.0, translate=0.1, scale=0.5, shear=0.0, perspective=0.0, flipud=0.0, fliplr=0.5, bgr=0.0, mosaic=1.0, mixup=0.0, copy_paste=0.0, copy_paste_mode=flip, auto_augment=randaugment, erasing=0.4, crop_fraction=1.0, cfg=None, tracker=botsort.yaml, save_dir=runs/pose/train\n",
            "Downloading https://ultralytics.com/assets/Arial.ttf to '/root/.config/Ultralytics/Arial.ttf'...\n"
          ]
        },
        {
          "output_type": "stream",
          "name": "stderr",
          "text": [
            "100%|██████████| 755k/755k [00:00<00:00, 4.06MB/s]\n"
          ]
        },
        {
          "output_type": "stream",
          "name": "stdout",
          "text": [
            "Overriding model.yaml kpt_shape=[17, 3] with kpt_shape=[22, 2]\n",
            "\n",
            "                   from  n    params  module                                       arguments                     \n",
            "  0                  -1  1       464  ultralytics.nn.modules.conv.Conv             [3, 16, 3, 2]                 \n",
            "  1                  -1  1      4672  ultralytics.nn.modules.conv.Conv             [16, 32, 3, 2]                \n",
            "  2                  -1  1      7360  ultralytics.nn.modules.block.C2f             [32, 32, 1, True]             \n",
            "  3                  -1  1     18560  ultralytics.nn.modules.conv.Conv             [32, 64, 3, 2]                \n",
            "  4                  -1  2     49664  ultralytics.nn.modules.block.C2f             [64, 64, 2, True]             \n",
            "  5                  -1  1     73984  ultralytics.nn.modules.conv.Conv             [64, 128, 3, 2]               \n",
            "  6                  -1  2    197632  ultralytics.nn.modules.block.C2f             [128, 128, 2, True]           \n",
            "  7                  -1  1    295424  ultralytics.nn.modules.conv.Conv             [128, 256, 3, 2]              \n",
            "  8                  -1  1    460288  ultralytics.nn.modules.block.C2f             [256, 256, 1, True]           \n",
            "  9                  -1  1    164608  ultralytics.nn.modules.block.SPPF            [256, 256, 5]                 \n",
            " 10                  -1  1         0  torch.nn.modules.upsampling.Upsample         [None, 2, 'nearest']          \n",
            " 11             [-1, 6]  1         0  ultralytics.nn.modules.conv.Concat           [1]                           \n",
            " 12                  -1  1    148224  ultralytics.nn.modules.block.C2f             [384, 128, 1]                 \n",
            " 13                  -1  1         0  torch.nn.modules.upsampling.Upsample         [None, 2, 'nearest']          \n",
            " 14             [-1, 4]  1         0  ultralytics.nn.modules.conv.Concat           [1]                           \n",
            " 15                  -1  1     37248  ultralytics.nn.modules.block.C2f             [192, 64, 1]                  \n",
            " 16                  -1  1     36992  ultralytics.nn.modules.conv.Conv             [64, 64, 3, 2]                \n",
            " 17            [-1, 12]  1         0  ultralytics.nn.modules.conv.Concat           [1]                           \n",
            " 18                  -1  1    123648  ultralytics.nn.modules.block.C2f             [192, 128, 1]                 \n",
            " 19                  -1  1    147712  ultralytics.nn.modules.conv.Conv             [128, 128, 3, 2]              \n",
            " 20             [-1, 9]  1         0  ultralytics.nn.modules.conv.Concat           [1]                           \n",
            " 21                  -1  1    493056  ultralytics.nn.modules.block.C2f             [384, 256, 1]                 \n",
            " 22        [15, 18, 21]  1    987655  ultralytics.nn.modules.head.Pose             [1, [22, 2], [64, 128, 256]]  \n",
            "YOLOv8n-pose summary: 250 layers, 3,247,191 parameters, 3,247,175 gradients, 9.1 GFLOPs\n",
            "\n",
            "Transferred 361/397 items from pretrained weights\n",
            "\u001b[34m\u001b[1mTensorBoard: \u001b[0mStart with 'tensorboard --logdir runs/pose/train', view at http://localhost:6006/\n",
            "Freezing layer 'model.22.dfl.conv.weight'\n"
          ]
        },
        {
          "output_type": "stream",
          "name": "stderr",
          "text": [
            "\u001b[34m\u001b[1mtrain: \u001b[0mScanning /content/drive/MyDrive/Year3/comvi/project-lumbar-spine/LSPINE-3/LA/train.cache... 259 images, 60 backgrounds, 1 corrupt: 100%|██████████| 319/319 [00:00<?, ?it/s]"
          ]
        },
        {
          "output_type": "stream",
          "name": "stdout",
          "text": [
            "\u001b[34m\u001b[1mtrain: \u001b[0mWARNING ⚠️ /content/drive/MyDrive/Year3/comvi/project-lumbar-spine/LSPINE-3/LA/train/0126-F-026Y1.jpg: ignoring corrupt image/label: negative label values [ -0.0086227]\n",
            "WARNING ⚠️ No 'flip_idx' array defined in data.yaml, setting augmentation 'fliplr=0.0'\n"
          ]
        },
        {
          "output_type": "stream",
          "name": "stderr",
          "text": [
            "\n"
          ]
        },
        {
          "output_type": "stream",
          "name": "stdout",
          "text": [
            "\u001b[34m\u001b[1malbumentations: \u001b[0mBlur(p=0.01, blur_limit=(3, 7)), MedianBlur(p=0.01, blur_limit=(3, 7)), ToGray(p=0.01, num_output_channels=3, method='weighted_average'), CLAHE(p=0.01, clip_limit=(1, 4.0), tile_grid_size=(8, 8))\n"
          ]
        },
        {
          "output_type": "stream",
          "name": "stderr",
          "text": [
            "/usr/local/lib/python3.10/dist-packages/albumentations/__init__.py:13: UserWarning: A new version of Albumentations is available: 1.4.18 (you have 1.4.15). Upgrade using: pip install -U albumentations. To disable automatic update checks, set the environment variable NO_ALBUMENTATIONS_UPDATE to 1.\n",
            "  check_for_updates()\n",
            "\u001b[34m\u001b[1mval: \u001b[0mScanning /content/drive/MyDrive/Year3/comvi/project-lumbar-spine/LSPINE-3/LA/val.cache... 19 images, 62 backgrounds, 0 corrupt: 100%|██████████| 81/81 [00:00<?, ?it/s]\n"
          ]
        },
        {
          "output_type": "stream",
          "name": "stdout",
          "text": [
            "Plotting labels to runs/pose/train/labels.jpg... \n",
            "\u001b[34m\u001b[1moptimizer:\u001b[0m 'optimizer=auto' found, ignoring 'lr0=0.01' and 'momentum=0.937' and determining best 'optimizer', 'lr0' and 'momentum' automatically... \n",
            "\u001b[34m\u001b[1moptimizer:\u001b[0m AdamW(lr=0.002, momentum=0.9) with parameter groups 63 weight(decay=0.0), 73 weight(decay=0.0005), 72 bias(decay=0.0)\n",
            "\u001b[34m\u001b[1mTensorBoard: \u001b[0mmodel graph visualization added ✅\n",
            "Image sizes 640 train, 640 val\n",
            "Using 0 dataloader workers\n",
            "Logging results to \u001b[1mruns/pose/train\u001b[0m\n",
            "Starting training for 100 epochs...\n",
            "\n",
            "      Epoch    GPU_mem   box_loss  pose_loss  kobj_loss   cls_loss   dfl_loss  Instances       Size\n"
          ]
        },
        {
          "output_type": "stream",
          "name": "stderr",
          "text": [
            "      1/100         0G      2.355      11.39          0      3.473      2.265         31        640: 100%|██████████| 20/20 [05:47<00:00, 17.39s/it]\n",
            "                 Class     Images  Instances      Box(P          R      mAP50  mAP50-95)     Pose(P          R      mAP50  mAP50-95):   0%|          | 0/3 [00:00<?, ?it/s]\u001b[34m\u001b[1mwandb\u001b[0m: \u001b[33mWARNING\u001b[0m Tried to log to step 1 that is less than the current step 10. Steps must be monotonically increasing, so this data will be ignored. See https://wandb.me/define-metric to log data out of order.\n",
            "\u001b[34m\u001b[1mwandb\u001b[0m: \u001b[33mWARNING\u001b[0m Tried to log to step 1 that is less than the current step 10. Steps must be monotonically increasing, so this data will be ignored. See https://wandb.me/define-metric to log data out of order.\n",
            "                 Class     Images  Instances      Box(P          R      mAP50  mAP50-95)     Pose(P          R      mAP50  mAP50-95): 100%|██████████| 3/3 [02:04<00:00, 41.46s/it]"
          ]
        },
        {
          "output_type": "stream",
          "name": "stdout",
          "text": [
            "                   all         81         19      0.256      0.632      0.253     0.0985          0          0          0          0\n"
          ]
        },
        {
          "output_type": "stream",
          "name": "stderr",
          "text": [
            "\n"
          ]
        },
        {
          "output_type": "stream",
          "name": "stdout",
          "text": [
            "\n",
            "      Epoch    GPU_mem   box_loss  pose_loss  kobj_loss   cls_loss   dfl_loss  Instances       Size\n"
          ]
        },
        {
          "output_type": "stream",
          "name": "stderr",
          "text": [
            "\r  0%|          | 0/20 [00:00<?, ?it/s]\u001b[34m\u001b[1mwandb\u001b[0m: \u001b[33mWARNING\u001b[0m Tried to log to step 1 that is less than the current step 10. Steps must be monotonically increasing, so this data will be ignored. See https://wandb.me/define-metric to log data out of order.\n",
            "\u001b[34m\u001b[1mwandb\u001b[0m: \u001b[33mWARNING\u001b[0m Tried to log to step 1 that is less than the current step 10. Steps must be monotonically increasing, so this data will be ignored. See https://wandb.me/define-metric to log data out of order.\n",
            "\u001b[34m\u001b[1mwandb\u001b[0m: \u001b[33mWARNING\u001b[0m Tried to log to step 1 that is less than the current step 10. Steps must be monotonically increasing, so this data will be ignored. See https://wandb.me/define-metric to log data out of order.\n",
            "\u001b[34m\u001b[1mwandb\u001b[0m: \u001b[33mWARNING\u001b[0m Tried to log to step 1 that is less than the current step 10. Steps must be monotonically increasing, so this data will be ignored. See https://wandb.me/define-metric to log data out of order.\n",
            "\u001b[34m\u001b[1mwandb\u001b[0m: \u001b[33mWARNING\u001b[0m Tried to log to step 1 that is less than the current step 10. Steps must be monotonically increasing, so this data will be ignored. See https://wandb.me/define-metric to log data out of order.\n",
            "\u001b[34m\u001b[1mwandb\u001b[0m: \u001b[33mWARNING\u001b[0m Tried to log to step 1 that is less than the current step 10. Steps must be monotonically increasing, so this data will be ignored. See https://wandb.me/define-metric to log data out of order.\n",
            "      2/100         0G      1.511      10.94          0      1.419      1.489         24        640: 100%|██████████| 20/20 [05:03<00:00, 15.16s/it]\n",
            "                 Class     Images  Instances      Box(P          R      mAP50  mAP50-95)     Pose(P          R      mAP50  mAP50-95):   0%|          | 0/3 [00:00<?, ?it/s]\u001b[34m\u001b[1mwandb\u001b[0m: \u001b[33mWARNING\u001b[0m Tried to log to step 2 that is less than the current step 10. Steps must be monotonically increasing, so this data will be ignored. See https://wandb.me/define-metric to log data out of order.\n",
            "\u001b[34m\u001b[1mwandb\u001b[0m: \u001b[33mWARNING\u001b[0m Tried to log to step 2 that is less than the current step 10. Steps must be monotonically increasing, so this data will be ignored. See https://wandb.me/define-metric to log data out of order.\n",
            "                 Class     Images  Instances      Box(P          R      mAP50  mAP50-95)     Pose(P          R      mAP50  mAP50-95): 100%|██████████| 3/3 [00:27<00:00,  9.19s/it]"
          ]
        },
        {
          "output_type": "stream",
          "name": "stdout",
          "text": [
            "                   all         81         19      0.237      0.895      0.345      0.167          0          0          0          0\n"
          ]
        },
        {
          "output_type": "stream",
          "name": "stderr",
          "text": [
            "\n"
          ]
        },
        {
          "output_type": "stream",
          "name": "stdout",
          "text": [
            "\n",
            "      Epoch    GPU_mem   box_loss  pose_loss  kobj_loss   cls_loss   dfl_loss  Instances       Size\n"
          ]
        },
        {
          "output_type": "stream",
          "name": "stderr",
          "text": [
            "  0%|          | 0/20 [00:00<?, ?it/s]\u001b[34m\u001b[1mwandb\u001b[0m: \u001b[33mWARNING\u001b[0m Tried to log to step 2 that is less than the current step 10. Steps must be monotonically increasing, so this data will be ignored. See https://wandb.me/define-metric to log data out of order.\n",
            "      3/100         0G      1.475      10.61          0      1.209      1.431         25        640: 100%|██████████| 20/20 [05:13<00:00, 15.69s/it]\n",
            "                 Class     Images  Instances      Box(P          R      mAP50  mAP50-95)     Pose(P          R      mAP50  mAP50-95):   0%|          | 0/3 [00:00<?, ?it/s]\u001b[34m\u001b[1mwandb\u001b[0m: \u001b[33mWARNING\u001b[0m Tried to log to step 3 that is less than the current step 10. Steps must be monotonically increasing, so this data will be ignored. See https://wandb.me/define-metric to log data out of order.\n",
            "\u001b[34m\u001b[1mwandb\u001b[0m: \u001b[33mWARNING\u001b[0m Tried to log to step 3 that is less than the current step 10. Steps must be monotonically increasing, so this data will be ignored. See https://wandb.me/define-metric to log data out of order.\n",
            "                 Class     Images  Instances      Box(P          R      mAP50  mAP50-95)     Pose(P          R      mAP50  mAP50-95): 100%|██████████| 3/3 [00:27<00:00,  9.05s/it]"
          ]
        },
        {
          "output_type": "stream",
          "name": "stdout",
          "text": [
            "                   all         81         19      0.251      0.842      0.264      0.148          0          0          0          0\n"
          ]
        },
        {
          "output_type": "stream",
          "name": "stderr",
          "text": [
            "\n"
          ]
        },
        {
          "output_type": "stream",
          "name": "stdout",
          "text": [
            "\n",
            "      Epoch    GPU_mem   box_loss  pose_loss  kobj_loss   cls_loss   dfl_loss  Instances       Size\n"
          ]
        },
        {
          "output_type": "stream",
          "name": "stderr",
          "text": [
            "  0%|          | 0/20 [00:00<?, ?it/s]\u001b[34m\u001b[1mwandb\u001b[0m: \u001b[33mWARNING\u001b[0m Tried to log to step 3 that is less than the current step 10. Steps must be monotonically increasing, so this data will be ignored. See https://wandb.me/define-metric to log data out of order.\n",
            "      4/100         0G       1.37       9.97          0      1.072      1.377         23        640: 100%|██████████| 20/20 [05:01<00:00, 15.10s/it]\n",
            "                 Class     Images  Instances      Box(P          R      mAP50  mAP50-95)     Pose(P          R      mAP50  mAP50-95):   0%|          | 0/3 [00:00<?, ?it/s]\u001b[34m\u001b[1mwandb\u001b[0m: \u001b[33mWARNING\u001b[0m Tried to log to step 4 that is less than the current step 10. Steps must be monotonically increasing, so this data will be ignored. See https://wandb.me/define-metric to log data out of order.\n",
            "\u001b[34m\u001b[1mwandb\u001b[0m: \u001b[33mWARNING\u001b[0m Tried to log to step 4 that is less than the current step 10. Steps must be monotonically increasing, so this data will be ignored. See https://wandb.me/define-metric to log data out of order.\n",
            "                 Class     Images  Instances      Box(P          R      mAP50  mAP50-95)     Pose(P          R      mAP50  mAP50-95): 100%|██████████| 3/3 [00:28<00:00,  9.56s/it]"
          ]
        },
        {
          "output_type": "stream",
          "name": "stdout",
          "text": [
            "                   all         81         19      0.256       0.85      0.335      0.143          0          0          0          0\n"
          ]
        },
        {
          "output_type": "stream",
          "name": "stderr",
          "text": [
            "\n"
          ]
        },
        {
          "output_type": "stream",
          "name": "stdout",
          "text": [
            "\n",
            "      Epoch    GPU_mem   box_loss  pose_loss  kobj_loss   cls_loss   dfl_loss  Instances       Size\n"
          ]
        },
        {
          "output_type": "stream",
          "name": "stderr",
          "text": [
            "  0%|          | 0/20 [00:00<?, ?it/s]\u001b[34m\u001b[1mwandb\u001b[0m: \u001b[33mWARNING\u001b[0m Tried to log to step 4 that is less than the current step 10. Steps must be monotonically increasing, so this data will be ignored. See https://wandb.me/define-metric to log data out of order.\n",
            "      5/100         0G      1.291      9.624          0      1.088       1.31         20        640: 100%|██████████| 20/20 [05:04<00:00, 15.22s/it]\n",
            "                 Class     Images  Instances      Box(P          R      mAP50  mAP50-95)     Pose(P          R      mAP50  mAP50-95):   0%|          | 0/3 [00:00<?, ?it/s]\u001b[34m\u001b[1mwandb\u001b[0m: \u001b[33mWARNING\u001b[0m Tried to log to step 5 that is less than the current step 10. Steps must be monotonically increasing, so this data will be ignored. See https://wandb.me/define-metric to log data out of order.\n",
            "\u001b[34m\u001b[1mwandb\u001b[0m: \u001b[33mWARNING\u001b[0m Tried to log to step 5 that is less than the current step 10. Steps must be monotonically increasing, so this data will be ignored. See https://wandb.me/define-metric to log data out of order.\n",
            "                 Class     Images  Instances      Box(P          R      mAP50  mAP50-95)     Pose(P          R      mAP50  mAP50-95): 100%|██████████| 3/3 [00:29<00:00,  9.69s/it]"
          ]
        },
        {
          "output_type": "stream",
          "name": "stdout",
          "text": [
            "                   all         81         19      0.284      0.842      0.281      0.138          0          0          0          0\n"
          ]
        },
        {
          "output_type": "stream",
          "name": "stderr",
          "text": [
            "\n"
          ]
        },
        {
          "output_type": "stream",
          "name": "stdout",
          "text": [
            "\n",
            "      Epoch    GPU_mem   box_loss  pose_loss  kobj_loss   cls_loss   dfl_loss  Instances       Size\n"
          ]
        },
        {
          "output_type": "stream",
          "name": "stderr",
          "text": [
            "\u001b[34m\u001b[1mwandb\u001b[0m: \u001b[33mWARNING\u001b[0m Tried to log to step 5 that is less than the current step 10. Steps must be monotonically increasing, so this data will be ignored. See https://wandb.me/define-metric to log data out of order.\n",
            "      6/100         0G      1.355      9.757          0      1.106      1.429         20        640:  35%|███▌      | 7/20 [01:56<03:37, 16.71s/it]\n"
          ]
        },
        {
          "output_type": "error",
          "ename": "KeyboardInterrupt",
          "evalue": "",
          "traceback": [
            "\u001b[0;31m---------------------------------------------------------------------------\u001b[0m",
            "\u001b[0;31mKeyboardInterrupt\u001b[0m                         Traceback (most recent call last)",
            "\u001b[0;32m<ipython-input-5-e5522cea409e>\u001b[0m in \u001b[0;36m<cell line: 2>\u001b[0;34m()\u001b[0m\n\u001b[1;32m      1\u001b[0m \u001b[0;31m# Train the model\u001b[0m\u001b[0;34m\u001b[0m\u001b[0;34m\u001b[0m\u001b[0m\n\u001b[0;32m----> 2\u001b[0;31m \u001b[0mresults\u001b[0m \u001b[0;34m=\u001b[0m \u001b[0mmodel\u001b[0m\u001b[0;34m.\u001b[0m\u001b[0mtrain\u001b[0m\u001b[0;34m(\u001b[0m\u001b[0mdata\u001b[0m\u001b[0;34m=\u001b[0m\u001b[0;34m\"/content/drive/MyDrive/Year3/comvi/project-lumbar-spine/LSPINE-3/LA/data.yaml\"\u001b[0m\u001b[0;34m,\u001b[0m \u001b[0mepochs\u001b[0m\u001b[0;34m=\u001b[0m\u001b[0;36m100\u001b[0m\u001b[0;34m,\u001b[0m \u001b[0mimgsz\u001b[0m\u001b[0;34m=\u001b[0m\u001b[0;36m640\u001b[0m\u001b[0;34m)\u001b[0m\u001b[0;34m\u001b[0m\u001b[0;34m\u001b[0m\u001b[0m\n\u001b[0m",
            "\u001b[0;32m/usr/local/lib/python3.10/dist-packages/ultralytics/engine/model.py\u001b[0m in \u001b[0;36mtrain\u001b[0;34m(self, trainer, **kwargs)\u001b[0m\n\u001b[1;32m    800\u001b[0m \u001b[0;34m\u001b[0m\u001b[0m\n\u001b[1;32m    801\u001b[0m         \u001b[0mself\u001b[0m\u001b[0;34m.\u001b[0m\u001b[0mtrainer\u001b[0m\u001b[0;34m.\u001b[0m\u001b[0mhub_session\u001b[0m \u001b[0;34m=\u001b[0m \u001b[0mself\u001b[0m\u001b[0;34m.\u001b[0m\u001b[0msession\u001b[0m  \u001b[0;31m# attach optional HUB session\u001b[0m\u001b[0;34m\u001b[0m\u001b[0;34m\u001b[0m\u001b[0m\n\u001b[0;32m--> 802\u001b[0;31m         \u001b[0mself\u001b[0m\u001b[0;34m.\u001b[0m\u001b[0mtrainer\u001b[0m\u001b[0;34m.\u001b[0m\u001b[0mtrain\u001b[0m\u001b[0;34m(\u001b[0m\u001b[0;34m)\u001b[0m\u001b[0;34m\u001b[0m\u001b[0;34m\u001b[0m\u001b[0m\n\u001b[0m\u001b[1;32m    803\u001b[0m         \u001b[0;31m# Update model and cfg after training\u001b[0m\u001b[0;34m\u001b[0m\u001b[0;34m\u001b[0m\u001b[0m\n\u001b[1;32m    804\u001b[0m         \u001b[0;32mif\u001b[0m \u001b[0mRANK\u001b[0m \u001b[0;32min\u001b[0m \u001b[0;34m{\u001b[0m\u001b[0;34m-\u001b[0m\u001b[0;36m1\u001b[0m\u001b[0;34m,\u001b[0m \u001b[0;36m0\u001b[0m\u001b[0;34m}\u001b[0m\u001b[0;34m:\u001b[0m\u001b[0;34m\u001b[0m\u001b[0;34m\u001b[0m\u001b[0m\n",
            "\u001b[0;32m/usr/local/lib/python3.10/dist-packages/ultralytics/engine/trainer.py\u001b[0m in \u001b[0;36mtrain\u001b[0;34m(self)\u001b[0m\n\u001b[1;32m    205\u001b[0m \u001b[0;34m\u001b[0m\u001b[0m\n\u001b[1;32m    206\u001b[0m         \u001b[0;32melse\u001b[0m\u001b[0;34m:\u001b[0m\u001b[0;34m\u001b[0m\u001b[0;34m\u001b[0m\u001b[0m\n\u001b[0;32m--> 207\u001b[0;31m             \u001b[0mself\u001b[0m\u001b[0;34m.\u001b[0m\u001b[0m_do_train\u001b[0m\u001b[0;34m(\u001b[0m\u001b[0mworld_size\u001b[0m\u001b[0;34m)\u001b[0m\u001b[0;34m\u001b[0m\u001b[0;34m\u001b[0m\u001b[0m\n\u001b[0m\u001b[1;32m    208\u001b[0m \u001b[0;34m\u001b[0m\u001b[0m\n\u001b[1;32m    209\u001b[0m     \u001b[0;32mdef\u001b[0m \u001b[0m_setup_scheduler\u001b[0m\u001b[0;34m(\u001b[0m\u001b[0mself\u001b[0m\u001b[0;34m)\u001b[0m\u001b[0;34m:\u001b[0m\u001b[0;34m\u001b[0m\u001b[0;34m\u001b[0m\u001b[0m\n",
            "\u001b[0;32m/usr/local/lib/python3.10/dist-packages/ultralytics/engine/trainer.py\u001b[0m in \u001b[0;36m_do_train\u001b[0;34m(self, world_size)\u001b[0m\n\u001b[1;32m    391\u001b[0m \u001b[0;34m\u001b[0m\u001b[0m\n\u001b[1;32m    392\u001b[0m                 \u001b[0;31m# Backward\u001b[0m\u001b[0;34m\u001b[0m\u001b[0;34m\u001b[0m\u001b[0m\n\u001b[0;32m--> 393\u001b[0;31m                 \u001b[0mself\u001b[0m\u001b[0;34m.\u001b[0m\u001b[0mscaler\u001b[0m\u001b[0;34m.\u001b[0m\u001b[0mscale\u001b[0m\u001b[0;34m(\u001b[0m\u001b[0mself\u001b[0m\u001b[0;34m.\u001b[0m\u001b[0mloss\u001b[0m\u001b[0;34m)\u001b[0m\u001b[0;34m.\u001b[0m\u001b[0mbackward\u001b[0m\u001b[0;34m(\u001b[0m\u001b[0;34m)\u001b[0m\u001b[0;34m\u001b[0m\u001b[0;34m\u001b[0m\u001b[0m\n\u001b[0m\u001b[1;32m    394\u001b[0m \u001b[0;34m\u001b[0m\u001b[0m\n\u001b[1;32m    395\u001b[0m                 \u001b[0;31m# Optimize - https://pytorch.org/docs/master/notes/amp_examples.html\u001b[0m\u001b[0;34m\u001b[0m\u001b[0;34m\u001b[0m\u001b[0m\n",
            "\u001b[0;32m/usr/local/lib/python3.10/dist-packages/torch/_tensor.py\u001b[0m in \u001b[0;36mbackward\u001b[0;34m(self, gradient, retain_graph, create_graph, inputs)\u001b[0m\n\u001b[1;32m    519\u001b[0m                 \u001b[0minputs\u001b[0m\u001b[0;34m=\u001b[0m\u001b[0minputs\u001b[0m\u001b[0;34m,\u001b[0m\u001b[0;34m\u001b[0m\u001b[0;34m\u001b[0m\u001b[0m\n\u001b[1;32m    520\u001b[0m             )\n\u001b[0;32m--> 521\u001b[0;31m         torch.autograd.backward(\n\u001b[0m\u001b[1;32m    522\u001b[0m             \u001b[0mself\u001b[0m\u001b[0;34m,\u001b[0m \u001b[0mgradient\u001b[0m\u001b[0;34m,\u001b[0m \u001b[0mretain_graph\u001b[0m\u001b[0;34m,\u001b[0m \u001b[0mcreate_graph\u001b[0m\u001b[0;34m,\u001b[0m \u001b[0minputs\u001b[0m\u001b[0;34m=\u001b[0m\u001b[0minputs\u001b[0m\u001b[0;34m\u001b[0m\u001b[0;34m\u001b[0m\u001b[0m\n\u001b[1;32m    523\u001b[0m         )\n",
            "\u001b[0;32m/usr/local/lib/python3.10/dist-packages/torch/autograd/__init__.py\u001b[0m in \u001b[0;36mbackward\u001b[0;34m(tensors, grad_tensors, retain_graph, create_graph, grad_variables, inputs)\u001b[0m\n\u001b[1;32m    287\u001b[0m     \u001b[0;31m# some Python versions print out the first line of a multi-line function\u001b[0m\u001b[0;34m\u001b[0m\u001b[0;34m\u001b[0m\u001b[0m\n\u001b[1;32m    288\u001b[0m     \u001b[0;31m# calls in the traceback and some print out the last line\u001b[0m\u001b[0;34m\u001b[0m\u001b[0;34m\u001b[0m\u001b[0m\n\u001b[0;32m--> 289\u001b[0;31m     _engine_run_backward(\n\u001b[0m\u001b[1;32m    290\u001b[0m         \u001b[0mtensors\u001b[0m\u001b[0;34m,\u001b[0m\u001b[0;34m\u001b[0m\u001b[0;34m\u001b[0m\u001b[0m\n\u001b[1;32m    291\u001b[0m         \u001b[0mgrad_tensors_\u001b[0m\u001b[0;34m,\u001b[0m\u001b[0;34m\u001b[0m\u001b[0;34m\u001b[0m\u001b[0m\n",
            "\u001b[0;32m/usr/local/lib/python3.10/dist-packages/torch/autograd/graph.py\u001b[0m in \u001b[0;36m_engine_run_backward\u001b[0;34m(t_outputs, *args, **kwargs)\u001b[0m\n\u001b[1;32m    767\u001b[0m         \u001b[0munregister_hooks\u001b[0m \u001b[0;34m=\u001b[0m \u001b[0m_register_logging_hooks_on_whole_graph\u001b[0m\u001b[0;34m(\u001b[0m\u001b[0mt_outputs\u001b[0m\u001b[0;34m)\u001b[0m\u001b[0;34m\u001b[0m\u001b[0;34m\u001b[0m\u001b[0m\n\u001b[1;32m    768\u001b[0m     \u001b[0;32mtry\u001b[0m\u001b[0;34m:\u001b[0m\u001b[0;34m\u001b[0m\u001b[0;34m\u001b[0m\u001b[0m\n\u001b[0;32m--> 769\u001b[0;31m         return Variable._execution_engine.run_backward(  # Calls into the C++ engine to run the backward pass\n\u001b[0m\u001b[1;32m    770\u001b[0m             \u001b[0mt_outputs\u001b[0m\u001b[0;34m,\u001b[0m \u001b[0;34m*\u001b[0m\u001b[0margs\u001b[0m\u001b[0;34m,\u001b[0m \u001b[0;34m**\u001b[0m\u001b[0mkwargs\u001b[0m\u001b[0;34m\u001b[0m\u001b[0;34m\u001b[0m\u001b[0m\n\u001b[1;32m    771\u001b[0m         )  # Calls into the C++ engine to run the backward pass\n",
            "\u001b[0;31mKeyboardInterrupt\u001b[0m: "
          ]
        }
      ]
    }
  ]
}